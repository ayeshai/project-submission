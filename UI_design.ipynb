{
 "cells": [
  {
   "cell_type": "code",
   "execution_count": 1,
   "metadata": {},
   "outputs": [],
   "source": [
    "import numpy as np\n",
    "import pandas as pd\n",
    "import matplotlib.pyplot as plt\n",
    "import seaborn as sns\n",
    "%matplotlib inline\n",
    "\n",
    "\n",
    "house_data = pd.read_csv('kc_house_data.csv')\n",
    "\n",
    "independent_v = house_data.drop(['price','date', 'id'], axis =1)\n",
    "dependent_v = house_data['price']\n"
   ]
  },
  {
   "cell_type": "code",
   "execution_count": 2,
   "metadata": {},
   "outputs": [
    {
     "name": "stderr",
     "output_type": "stream",
     "text": [
      "/opt/anaconda3/lib/python3.7/site-packages/pandas/core/ops/__init__.py:1115: FutureWarning: elementwise comparison failed; returning scalar instead, but in the future will perform elementwise comparison\n",
      "  result = method(y)\n"
     ]
    },
    {
     "data": {
      "application/vnd.jupyter.widget-view+json": {
       "model_id": "34a30de9fe714cfb9ac63860dc01f3cb",
       "version_major": 2,
       "version_minor": 0
      },
      "text/plain": [
       "interactive(children=(Dropdown(description='col', options=('bedrooms', 'bathrooms', 'sqft_living', 'sqft_lot',…"
      ]
     },
     "metadata": {},
     "output_type": "display_data"
    },
    {
     "data": {
      "application/vnd.jupyter.widget-view+json": {
       "model_id": "35e2cf36871b45e79e395279ba805c1e",
       "version_major": 2,
       "version_minor": 0
      },
      "text/plain": [
       "interactive(children=(Dropdown(description='price', options=(221900.0, 538000.0, 180000.0, 604000.0, 510000.0,…"
      ]
     },
     "metadata": {},
     "output_type": "display_data"
    }
   ],
   "source": [
    "from ipywidgets import interact, interactive, IntSlider, Layout, interact_manual\n",
    "import ipywidgets as widgets\n",
    "\n",
    "\n",
    "# At first lets see all the feature we have in our dataset\n",
    "\n",
    "@interact\n",
    "def show_info(col = independent_v.head()):\n",
    "    return independent_v.loc[independent_v[col]]\n",
    "\n",
    "\n",
    "def f(price):\n",
    "    return price\n",
    "\n",
    "interact(f, price= dependent_v.head(100));"
   ]
  },
  {
   "cell_type": "code",
   "execution_count": 3,
   "metadata": {},
   "outputs": [],
   "source": [
    "## UI design ##\n",
    "from sklearn.linear_model import LinearRegression\n",
    "from sklearn.model_selection import train_test_split\n",
    "from sklearn.metrics import mean_squared_error\n",
    "\n",
    "\n",
    "def linear_r(test_size):\n",
    "    independent_v = house_data.drop(['price','date', 'id'], axis =1)\n",
    "    #independent_v = house_data.drop(['price','date', 'id', 'bedrooms', 'bathrooms', 'condition', 'grade','lat','long'], axis =1)\n",
    "    #independent_v = house_data.drop(['price','date', 'id', 'condition', 'grade','lat','long', 'waterfront','view','yr_renovated', 'zipcode'], axis =1)\n",
    "    #print(independent_v.head(10))\n",
    "\n",
    "    dependent_v = house_data['price']\n",
    "    #print(dependent_v.head(10))\n",
    "\n",
    "    independent_train, independent_test, dependent_train, dependent_test = train_test_split(independent_v, dependent_v, test_size = test_size,random_state = 20)\n",
    "\n",
    "\n",
    "    l_regression = LinearRegression()\n",
    "    l_regression.fit(independent_train, dependent_train)\n",
    "\n",
    "    print(\"interecpt is\", l_regression.intercept_)\n",
    "    #print(\"coeffiecient for each features is\", l_regression.coef_)\n",
    "    print(\"Score for training is: \",l_regression.score(independent_train,dependent_train))\n",
    "    \n",
    "    #print(\"score for training is: \", score1)\n",
    "    print(\"Score for testing is: \",l_regression.score(independent_test,dependent_test))\n",
    "\n",
    "\n",
    "# Now we are gonna predict y using  x feature test and train data \n",
    "    dependent_predict = l_regression.predict(independent_test)\n",
    "    error_val = mean_squared_error(dependent_test, dependent_predict)\n",
    "    e1 = np.sqrt(error_val)\n",
    "    print(\"error is\", e1)\n",
    "\n",
    "\n",
    "    plt.figure(figsize=(8, 4))\n",
    "    plt.scatter(dependent_test, dependent_predict, color = 'red')\n",
    "    plt.plot(dependent_predict, dependent_predict, ls=\"-\", c=\".10\")\n",
    "    plt.title('Actual-values VS Predicted-values')\n",
    "    plt.xlabel('actualVal')\n",
    "    plt.ylabel('predicteVal')\n",
    "    plt.show()\n",
    "    \n",
    "    #return(print(\"score for training is\",score1), score2)"
   ]
  },
  {
   "cell_type": "code",
   "execution_count": 4,
   "metadata": {},
   "outputs": [
    {
     "data": {
      "application/vnd.jupyter.widget-view+json": {
       "model_id": "458216a3ed2e4369ad9fb129a6bd2ff7",
       "version_major": 2,
       "version_minor": 0
      },
      "text/plain": [
       "interactive(children=(Dropdown(description='Test set size', options={'10% data': 0.1, '25% data': 0.25, '30% d…"
      ]
     },
     "metadata": {},
     "output_type": "display_data"
    }
   ],
   "source": [
    "interact(linear_r, test_size = widgets.Dropdown(options = {\"10% data\": 0.1, \"25% data\": 0.25, \"30% data\": 0.3, \"40% data\": 0.4, \"50% data\": 0.5, \"60% data\": 0.6},description=\"Test set size\"));\n"
   ]
  },
  {
   "cell_type": "code",
   "execution_count": 5,
   "metadata": {},
   "outputs": [],
   "source": [
    "# UI desdgin For logistic regression ##\n",
    "\n",
    "def price(price_amount):\n",
    "    price_high = np.array(house_data['price'])\n",
    "\n",
    "    list1 = []\n",
    "    \n",
    "    for price in price_high:\n",
    "        if price >= price_amount:     ##estimating the price by setting the threshold\n",
    "            list1.append(1) # yes, price is high\n",
    "        else:\n",
    "            list1.append(0) # NO, price is not high\n",
    "\n",
    "\n",
    "    house_data['price_high'] = list1 \n",
    "\n",
    "    total = house_data['price_high'].value_counts()\n",
    "    print(\"Total 0's ans 1's we have: \\n\", total)\n",
    "\n",
    "    sns.countplot(x = 'price_high', data = house_data, palette = 'hls')\n",
    "    plt.show()\n",
    "    \n",
    "    \n",
    "    pd.crosstab(house_data.yr_built, house_data.price_high).plot(kind='bar',figsize=(18,5) )\n",
    "    plt.title('yr_built frequency')\n",
    "   \n"
   ]
  },
  {
   "cell_type": "code",
   "execution_count": 6,
   "metadata": {},
   "outputs": [
    {
     "data": {
      "application/vnd.jupyter.widget-view+json": {
       "model_id": "4e17a1f168654bdda2b8e87b9730d82d",
       "version_major": 2,
       "version_minor": 0
      },
      "text/plain": [
       "interactive(children=(Dropdown(description='select price:', options=(250000, 500000, 600000, 650000, 950000, 1…"
      ]
     },
     "metadata": {},
     "output_type": "display_data"
    }
   ],
   "source": [
    "interact(price, price_amount = widgets.Dropdown(options =[250000,500000, 600000, 650000, 950000, 1500000], description = 'select price:' ));\n"
   ]
  },
  {
   "cell_type": "code",
   "execution_count": 7,
   "metadata": {},
   "outputs": [],
   "source": [
    "### Data preprocess for logistic regression model ###\n",
    "\n",
    "all_x = house_data.drop([ 'price_high', 'date'], axis =1)\n",
    "y_val = house_data['price_high']\n",
    "\n",
    "l_dataframe = pd.DataFrame(all_x)\n",
    "x_independent_all = l_dataframe.drop(['waterfront', 'condition', 'lat', 'long', 'yr_renovated'], axis = 1)  "
   ]
  },
  {
   "cell_type": "code",
   "execution_count": 8,
   "metadata": {},
   "outputs": [],
   "source": [
    "#### UI design for logistic####\n",
    "### before improving the model ###\n",
    "\n",
    "from sklearn.linear_model import LogisticRegression\n",
    "from sklearn.metrics import classification_report\n",
    "from sklearn.metrics import confusion_matrix\n",
    "\n",
    "def logis(test_size):\n",
    "    \n",
    "    \n",
    "    feature_train, feature_test, target_train, target_test = train_test_split(x_independent_all, y_val, test_size = test_size,random_state = 20)\n",
    "\n",
    "    logistic = LogisticRegression()\n",
    "    logistic.fit(feature_train, target_train)\n",
    "\n",
    "    target_predict = logistic.predict(feature_test)\n",
    "\n",
    "    print('Accuracy of logistic regression classifier on test set:', logistic.score(feature_test, target_test))\n",
    "   \n",
    "    confu_matrix = confusion_matrix(target_test, target_predict)\n",
    "\n",
    "\n",
    "    axis = sns.heatmap(pd.DataFrame(confu_matrix), annot=confu_matrix, cmap=\"Blues\" ,fmt='g')\n",
    "    bottom, top = axis.get_ylim()\n",
    "    axis.set_ylim(bottom + 0.5, top - 0.5)\n",
    "    plt.tight_layout()\n",
    "    plt.title('Confusion matrix')\n",
    "    plt.ylabel('Actual label')\n",
    "    plt.xlabel('Predicted label')"
   ]
  },
  {
   "cell_type": "code",
   "execution_count": 9,
   "metadata": {},
   "outputs": [
    {
     "data": {
      "application/vnd.jupyter.widget-view+json": {
       "model_id": "f7ab1c75706b4f1289a264677a2eb3e4",
       "version_major": 2,
       "version_minor": 0
      },
      "text/plain": [
       "interactive(children=(RadioButtons(description='Test set size', options={'10% data': 0.1, '25% data': 0.25, '3…"
      ]
     },
     "metadata": {},
     "output_type": "display_data"
    }
   ],
   "source": [
    "interact(logis, test_size = widgets.RadioButtons(options = {\"10% data\": 0.1, \"25% data\": 0.25, \"30% data\": 0.3, \"40% data\": 0.4, \"50% data\": 0.5, \"60% data\": 0.6},description=\"Test set size\"));\n"
   ]
  },
  {
   "cell_type": "code",
   "execution_count": 10,
   "metadata": {},
   "outputs": [],
   "source": [
    "### IMPROVING MODEL BY DOING MIN_MAX_SCALER ###\n",
    "from sklearn import preprocessing\n",
    "min_max_scaler = preprocessing.MinMaxScaler()\n",
    "X_scale = min_max_scaler.fit_transform(x_independent_all)\n"
   ]
  },
  {
   "cell_type": "code",
   "execution_count": 11,
   "metadata": {},
   "outputs": [],
   "source": [
    "### UI design after improving the model ###\n",
    "def logis_improved(test_size):\n",
    "    features_train, features_test, targets_train, targets_test = train_test_split(X_scale, y_val, test_size = test_size,random_state = 20)\n",
    "    #print(feature_train)\n",
    "\n",
    "    logistic = LogisticRegression()\n",
    "    logistic.fit(features_train, targets_train)\n",
    "\n",
    "    targets_predict = logistic.predict(features_test)\n",
    "\n",
    "    print('Accuracy of logistic regression classifier on test set:', logistic.score(features_test, targets_test))\n",
    "    print(classification_report(targets_test, targets_predict))\n",
    "\n",
    "    confus_matrix = confusion_matrix(targets_test, targets_predict)\n",
    "\n",
    "\n",
    "    axis = sns.heatmap(pd.DataFrame(confus_matrix), annot=confus_matrix, cmap=\"Blues\" ,fmt='g')\n",
    "    bottom, top = axis.get_ylim()\n",
    "    axis.set_ylim(bottom + 0.5, top - 0.5)\n",
    "    plt.tight_layout()\n",
    "    plt.title('Confusion matrix')\n",
    "    plt.ylabel('Actual label')\n",
    "    plt.xlabel('Predicted label')\n"
   ]
  },
  {
   "cell_type": "code",
   "execution_count": 12,
   "metadata": {},
   "outputs": [
    {
     "data": {
      "application/vnd.jupyter.widget-view+json": {
       "model_id": "812ff14644e146979249797ae88ba604",
       "version_major": 2,
       "version_minor": 0
      },
      "text/plain": [
       "interactive(children=(RadioButtons(description='Test set size', options={'10% data': 0.1, '25% data': 0.25, '3…"
      ]
     },
     "metadata": {},
     "output_type": "display_data"
    }
   ],
   "source": [
    "interact(logis_improved, test_size = widgets.RadioButtons(options = {\"10% data\": 0.1, \"25% data\": 0.25, \"30% data\": 0.3, \"40% data\": 0.4, \"50% data\": 0.5, \"60% data\": 0.6},description=\"Test set size\"));\n"
   ]
  },
  {
   "cell_type": "code",
   "execution_count": 13,
   "metadata": {},
   "outputs": [
    {
     "name": "stderr",
     "output_type": "stream",
     "text": [
      "Using TensorFlow backend.\n"
     ]
    }
   ],
   "source": [
    "### UI design for Neural network ###\n",
    "### after improved the model ###\n",
    "import keras\n",
    "from keras.models import Sequential\n",
    "from keras.layers import Dense\n",
    "def neural_improved(test_size):\n",
    "    x_t, x_te, y_t, y_te = train_test_split(X_scale, y_val, test_size = test_size,random_state = 42)\n",
    "    x_v, x_tes, y_v, y_tes = train_test_split(x_te, y_te, test_size = 0.5)\n",
    "\n",
    "    model = Sequential()\n",
    "    model.add(Dense(35, input_dim = 15, activation = 'relu'))\n",
    "    model.add(Dense(35, activation = 'relu'))\n",
    "    model.add(Dense(1, activation = 'sigmoid'))\n",
    "\n",
    "          \n",
    "\n",
    "    model.compile(optimizer='sgd',loss='binary_crossentropy',metrics=['accuracy'])\n",
    "\n",
    "    chart = model.fit(x_t, y_t, batch_size=20, epochs=10, validation_data=(x_v, y_v))\n",
    "    \n",
    "    print(model.evaluate(x_tes, y_tes))\n",
    "    \n",
    "    pred1 = model.predict(x_tes)\n",
    "    pred1 = (pred1 > 0.5)\n",
    "\n",
    "    confusion_m1 = confusion_matrix(y_tes, pred1)\n",
    "    print(confusion_m1)\n",
    "\n",
    "    print(classification_report(y_tes, pred1))\n",
    "    \n",
    "    plt.plot(chart.history['accuracy'])\n",
    "    plt.plot(chart.history['val_accuracy'])\n",
    "    plt.title('Model accuracy')\n",
    "    plt.ylabel('Accuracy')\n",
    "    plt.xlabel('Epoch')\n",
    "    plt.legend(['Train', 'Test'], loc='upper left')\n",
    "    plt.show()\n",
    "    \n",
    "    plt.plot(chart.history['loss'])\n",
    "    plt.plot(chart.history['val_loss'])\n",
    "    plt.title('Model loss')\n",
    "    plt.ylabel('Loss')\n",
    "    plt.xlabel('Epoch')\n",
    "    plt.legend(['Train', 'Test'], loc='upper left')\n",
    "    plt.show()\n",
    "    "
   ]
  },
  {
   "cell_type": "code",
   "execution_count": 14,
   "metadata": {},
   "outputs": [
    {
     "data": {
      "application/vnd.jupyter.widget-view+json": {
       "model_id": "129a002b38d04007b45bda27e2b51ffb",
       "version_major": 2,
       "version_minor": 0
      },
      "text/plain": [
       "interactive(children=(RadioButtons(description='Test set size', options={'10% data': 0.1, '25% data': 0.25, '3…"
      ]
     },
     "metadata": {},
     "output_type": "display_data"
    }
   ],
   "source": [
    "interact(neural_improved, test_size = widgets.RadioButtons(options = {\"10% data\": 0.1, \"25% data\": 0.25, \"30% data\": 0.3, \"40% data\": 0.4, \"50% data\": 0.5, \"60% data\": 0.6},description=\"Test set size\"));\n"
   ]
  },
  {
   "cell_type": "code",
   "execution_count": null,
   "metadata": {},
   "outputs": [],
   "source": []
  }
 ],
 "metadata": {
  "kernelspec": {
   "display_name": "Python 3",
   "language": "python",
   "name": "python3"
  },
  "language_info": {
   "codemirror_mode": {
    "name": "ipython",
    "version": 3
   },
   "file_extension": ".py",
   "mimetype": "text/x-python",
   "name": "python",
   "nbconvert_exporter": "python",
   "pygments_lexer": "ipython3",
   "version": "3.7.4"
  }
 },
 "nbformat": 4,
 "nbformat_minor": 2
}
